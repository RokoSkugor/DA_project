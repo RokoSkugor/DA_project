{
  "nbformat": 4,
  "nbformat_minor": 0,
  "metadata": {
    "colab": {
      "provenance": []
    },
    "kernelspec": {
      "name": "python3",
      "display_name": "Python 3"
    },
    "language_info": {
      "name": "python"
    }
  },
  "cells": [
    {
      "cell_type": "markdown",
      "source": [
        "# DATA ANALYSIS PROJECT\n",
        "---\n",
        "# Analyzing Fitness Patterns and Predicting Calorie Expenditure for Gym Members\n",
        "\n",
        "---\n",
        "\n",
        "**Objectives:**\n",
        "\n",
        "**1.\tAnalyze Patterns in Gym Members' Fitness Habits:**\n",
        "\n",
        "*\tUnderstand how demographic factors (e.g., age, gender) influence workout preferences and intensity.\n",
        "\n",
        "*\tExplore the relationship between workout type, duration, and calorie expenditure.\n",
        "\n",
        "**2.\tPredict Calorie Burn:**\n",
        "\n",
        "*\tBuild a predictive model to estimate calories burned based on workout parameters and physiological metrics (e.g., BMI, heart rate).\n",
        "\n",
        "**3.\tInsights for Health and Fitness Recommendations:**\n",
        "\n",
        "*\tIdentify the factors most associated with higher fitness levels and efficient calorie burn.\n",
        "\n",
        "*\tProvide actionable recommendations for gym-goers based on their experience levels.\n"
      ],
      "metadata": {
        "id": "mf9O-9TbVQ4h"
      }
    },
    {
      "cell_type": "markdown",
      "source": [
        "# **1. Importing Data**\n",
        "\n",
        "Steps:\n",
        "*   Load the dataset into Python using pandas found from Kaggle.\n",
        "*   Importing each library used for the project.\n",
        "*   Inspecting the data to understand the structure, data types, and summary statistics.\n"
      ],
      "metadata": {
        "id": "Ach3zp9g1eZW"
      }
    },
    {
      "cell_type": "code",
      "source": [
        "import pandas as pd\n",
        "import numpy as np\n",
        "import matplotlib.pyplot as plt\n",
        "import seaborn as sns\n",
        "\n",
        "path = \"/content/gym_members_exercise_tracking.csv\"\n",
        "\n",
        "gym_data = pd.read_csv(path)\n",
        "\n",
        "# Info for the columns, number of rows and data types\n",
        "gym_data.info()\n",
        "\n",
        "print()\n",
        "print()\n",
        "\n",
        "# Generate descriptive statistics\n",
        "gym_data.describe()"
      ],
      "metadata": {
        "colab": {
          "base_uri": "https://localhost:8080/",
          "height": 754
        },
        "id": "cYfePQ-E1qY3",
        "outputId": "85bdc4e5-6505-4675-c445-f9d4012d6448"
      },
      "execution_count": 30,
      "outputs": [
        {
          "output_type": "stream",
          "name": "stdout",
          "text": [
            "<class 'pandas.core.frame.DataFrame'>\n",
            "RangeIndex: 973 entries, 0 to 972\n",
            "Data columns (total 15 columns):\n",
            " #   Column                         Non-Null Count  Dtype  \n",
            "---  ------                         --------------  -----  \n",
            " 0   Age                            973 non-null    int64  \n",
            " 1   Gender                         973 non-null    object \n",
            " 2   Weight (kg)                    973 non-null    float64\n",
            " 3   Height (m)                     973 non-null    float64\n",
            " 4   Max_BPM                        973 non-null    int64  \n",
            " 5   Avg_BPM                        973 non-null    int64  \n",
            " 6   Resting_BPM                    973 non-null    int64  \n",
            " 7   Session_Duration (hours)       973 non-null    float64\n",
            " 8   Calories_Burned                973 non-null    float64\n",
            " 9   Workout_Type                   973 non-null    object \n",
            " 10  Fat_Percentage                 973 non-null    float64\n",
            " 11  Water_Intake (liters)          973 non-null    float64\n",
            " 12  Workout_Frequency (days/week)  973 non-null    int64  \n",
            " 13  Experience_Level               973 non-null    int64  \n",
            " 14  BMI                            973 non-null    float64\n",
            "dtypes: float64(7), int64(6), object(2)\n",
            "memory usage: 114.1+ KB\n",
            "\n",
            "\n"
          ]
        },
        {
          "output_type": "execute_result",
          "data": {
            "text/plain": [
              "              Age  Weight (kg)  Height (m)     Max_BPM     Avg_BPM  \\\n",
              "count  973.000000   973.000000   973.00000  973.000000  973.000000   \n",
              "mean    38.683453    73.854676     1.72258  179.883864  143.766701   \n",
              "std     12.180928    21.207500     0.12772   11.525686   14.345101   \n",
              "min     18.000000    40.000000     1.50000  160.000000  120.000000   \n",
              "25%     28.000000    58.100000     1.62000  170.000000  131.000000   \n",
              "50%     40.000000    70.000000     1.71000  180.000000  143.000000   \n",
              "75%     49.000000    86.000000     1.80000  190.000000  156.000000   \n",
              "max     59.000000   129.900000     2.00000  199.000000  169.000000   \n",
              "\n",
              "       Resting_BPM  Session_Duration (hours)  Calories_Burned  Fat_Percentage  \\\n",
              "count   973.000000                973.000000       973.000000      973.000000   \n",
              "mean     62.223022                  1.256423       905.422405       24.976773   \n",
              "std       7.327060                  0.343033       272.641516        6.259419   \n",
              "min      50.000000                  0.500000       303.000000       10.000000   \n",
              "25%      56.000000                  1.040000       720.000000       21.300000   \n",
              "50%      62.000000                  1.260000       893.000000       26.200000   \n",
              "75%      68.000000                  1.460000      1076.000000       29.300000   \n",
              "max      74.000000                  2.000000      1783.000000       35.000000   \n",
              "\n",
              "       Water_Intake (liters)  Workout_Frequency (days/week)  Experience_Level  \\\n",
              "count             973.000000                     973.000000        973.000000   \n",
              "mean                2.626619                       3.321686          1.809866   \n",
              "std                 0.600172                       0.913047          0.739693   \n",
              "min                 1.500000                       2.000000          1.000000   \n",
              "25%                 2.200000                       3.000000          1.000000   \n",
              "50%                 2.600000                       3.000000          2.000000   \n",
              "75%                 3.100000                       4.000000          2.000000   \n",
              "max                 3.700000                       5.000000          3.000000   \n",
              "\n",
              "              BMI  \n",
              "count  973.000000  \n",
              "mean    24.912127  \n",
              "std      6.660879  \n",
              "min     12.320000  \n",
              "25%     20.110000  \n",
              "50%     24.160000  \n",
              "75%     28.560000  \n",
              "max     49.840000  "
            ],
            "text/html": [
              "\n",
              "  <div id=\"df-51b9b2a6-4777-489a-addb-bed590835415\" class=\"colab-df-container\">\n",
              "    <div>\n",
              "<style scoped>\n",
              "    .dataframe tbody tr th:only-of-type {\n",
              "        vertical-align: middle;\n",
              "    }\n",
              "\n",
              "    .dataframe tbody tr th {\n",
              "        vertical-align: top;\n",
              "    }\n",
              "\n",
              "    .dataframe thead th {\n",
              "        text-align: right;\n",
              "    }\n",
              "</style>\n",
              "<table border=\"1\" class=\"dataframe\">\n",
              "  <thead>\n",
              "    <tr style=\"text-align: right;\">\n",
              "      <th></th>\n",
              "      <th>Age</th>\n",
              "      <th>Weight (kg)</th>\n",
              "      <th>Height (m)</th>\n",
              "      <th>Max_BPM</th>\n",
              "      <th>Avg_BPM</th>\n",
              "      <th>Resting_BPM</th>\n",
              "      <th>Session_Duration (hours)</th>\n",
              "      <th>Calories_Burned</th>\n",
              "      <th>Fat_Percentage</th>\n",
              "      <th>Water_Intake (liters)</th>\n",
              "      <th>Workout_Frequency (days/week)</th>\n",
              "      <th>Experience_Level</th>\n",
              "      <th>BMI</th>\n",
              "    </tr>\n",
              "  </thead>\n",
              "  <tbody>\n",
              "    <tr>\n",
              "      <th>count</th>\n",
              "      <td>973.000000</td>\n",
              "      <td>973.000000</td>\n",
              "      <td>973.00000</td>\n",
              "      <td>973.000000</td>\n",
              "      <td>973.000000</td>\n",
              "      <td>973.000000</td>\n",
              "      <td>973.000000</td>\n",
              "      <td>973.000000</td>\n",
              "      <td>973.000000</td>\n",
              "      <td>973.000000</td>\n",
              "      <td>973.000000</td>\n",
              "      <td>973.000000</td>\n",
              "      <td>973.000000</td>\n",
              "    </tr>\n",
              "    <tr>\n",
              "      <th>mean</th>\n",
              "      <td>38.683453</td>\n",
              "      <td>73.854676</td>\n",
              "      <td>1.72258</td>\n",
              "      <td>179.883864</td>\n",
              "      <td>143.766701</td>\n",
              "      <td>62.223022</td>\n",
              "      <td>1.256423</td>\n",
              "      <td>905.422405</td>\n",
              "      <td>24.976773</td>\n",
              "      <td>2.626619</td>\n",
              "      <td>3.321686</td>\n",
              "      <td>1.809866</td>\n",
              "      <td>24.912127</td>\n",
              "    </tr>\n",
              "    <tr>\n",
              "      <th>std</th>\n",
              "      <td>12.180928</td>\n",
              "      <td>21.207500</td>\n",
              "      <td>0.12772</td>\n",
              "      <td>11.525686</td>\n",
              "      <td>14.345101</td>\n",
              "      <td>7.327060</td>\n",
              "      <td>0.343033</td>\n",
              "      <td>272.641516</td>\n",
              "      <td>6.259419</td>\n",
              "      <td>0.600172</td>\n",
              "      <td>0.913047</td>\n",
              "      <td>0.739693</td>\n",
              "      <td>6.660879</td>\n",
              "    </tr>\n",
              "    <tr>\n",
              "      <th>min</th>\n",
              "      <td>18.000000</td>\n",
              "      <td>40.000000</td>\n",
              "      <td>1.50000</td>\n",
              "      <td>160.000000</td>\n",
              "      <td>120.000000</td>\n",
              "      <td>50.000000</td>\n",
              "      <td>0.500000</td>\n",
              "      <td>303.000000</td>\n",
              "      <td>10.000000</td>\n",
              "      <td>1.500000</td>\n",
              "      <td>2.000000</td>\n",
              "      <td>1.000000</td>\n",
              "      <td>12.320000</td>\n",
              "    </tr>\n",
              "    <tr>\n",
              "      <th>25%</th>\n",
              "      <td>28.000000</td>\n",
              "      <td>58.100000</td>\n",
              "      <td>1.62000</td>\n",
              "      <td>170.000000</td>\n",
              "      <td>131.000000</td>\n",
              "      <td>56.000000</td>\n",
              "      <td>1.040000</td>\n",
              "      <td>720.000000</td>\n",
              "      <td>21.300000</td>\n",
              "      <td>2.200000</td>\n",
              "      <td>3.000000</td>\n",
              "      <td>1.000000</td>\n",
              "      <td>20.110000</td>\n",
              "    </tr>\n",
              "    <tr>\n",
              "      <th>50%</th>\n",
              "      <td>40.000000</td>\n",
              "      <td>70.000000</td>\n",
              "      <td>1.71000</td>\n",
              "      <td>180.000000</td>\n",
              "      <td>143.000000</td>\n",
              "      <td>62.000000</td>\n",
              "      <td>1.260000</td>\n",
              "      <td>893.000000</td>\n",
              "      <td>26.200000</td>\n",
              "      <td>2.600000</td>\n",
              "      <td>3.000000</td>\n",
              "      <td>2.000000</td>\n",
              "      <td>24.160000</td>\n",
              "    </tr>\n",
              "    <tr>\n",
              "      <th>75%</th>\n",
              "      <td>49.000000</td>\n",
              "      <td>86.000000</td>\n",
              "      <td>1.80000</td>\n",
              "      <td>190.000000</td>\n",
              "      <td>156.000000</td>\n",
              "      <td>68.000000</td>\n",
              "      <td>1.460000</td>\n",
              "      <td>1076.000000</td>\n",
              "      <td>29.300000</td>\n",
              "      <td>3.100000</td>\n",
              "      <td>4.000000</td>\n",
              "      <td>2.000000</td>\n",
              "      <td>28.560000</td>\n",
              "    </tr>\n",
              "    <tr>\n",
              "      <th>max</th>\n",
              "      <td>59.000000</td>\n",
              "      <td>129.900000</td>\n",
              "      <td>2.00000</td>\n",
              "      <td>199.000000</td>\n",
              "      <td>169.000000</td>\n",
              "      <td>74.000000</td>\n",
              "      <td>2.000000</td>\n",
              "      <td>1783.000000</td>\n",
              "      <td>35.000000</td>\n",
              "      <td>3.700000</td>\n",
              "      <td>5.000000</td>\n",
              "      <td>3.000000</td>\n",
              "      <td>49.840000</td>\n",
              "    </tr>\n",
              "  </tbody>\n",
              "</table>\n",
              "</div>\n",
              "    <div class=\"colab-df-buttons\">\n",
              "\n",
              "  <div class=\"colab-df-container\">\n",
              "    <button class=\"colab-df-convert\" onclick=\"convertToInteractive('df-51b9b2a6-4777-489a-addb-bed590835415')\"\n",
              "            title=\"Convert this dataframe to an interactive table.\"\n",
              "            style=\"display:none;\">\n",
              "\n",
              "  <svg xmlns=\"http://www.w3.org/2000/svg\" height=\"24px\" viewBox=\"0 -960 960 960\">\n",
              "    <path d=\"M120-120v-720h720v720H120Zm60-500h600v-160H180v160Zm220 220h160v-160H400v160Zm0 220h160v-160H400v160ZM180-400h160v-160H180v160Zm440 0h160v-160H620v160ZM180-180h160v-160H180v160Zm440 0h160v-160H620v160Z\"/>\n",
              "  </svg>\n",
              "    </button>\n",
              "\n",
              "  <style>\n",
              "    .colab-df-container {\n",
              "      display:flex;\n",
              "      gap: 12px;\n",
              "    }\n",
              "\n",
              "    .colab-df-convert {\n",
              "      background-color: #E8F0FE;\n",
              "      border: none;\n",
              "      border-radius: 50%;\n",
              "      cursor: pointer;\n",
              "      display: none;\n",
              "      fill: #1967D2;\n",
              "      height: 32px;\n",
              "      padding: 0 0 0 0;\n",
              "      width: 32px;\n",
              "    }\n",
              "\n",
              "    .colab-df-convert:hover {\n",
              "      background-color: #E2EBFA;\n",
              "      box-shadow: 0px 1px 2px rgba(60, 64, 67, 0.3), 0px 1px 3px 1px rgba(60, 64, 67, 0.15);\n",
              "      fill: #174EA6;\n",
              "    }\n",
              "\n",
              "    .colab-df-buttons div {\n",
              "      margin-bottom: 4px;\n",
              "    }\n",
              "\n",
              "    [theme=dark] .colab-df-convert {\n",
              "      background-color: #3B4455;\n",
              "      fill: #D2E3FC;\n",
              "    }\n",
              "\n",
              "    [theme=dark] .colab-df-convert:hover {\n",
              "      background-color: #434B5C;\n",
              "      box-shadow: 0px 1px 3px 1px rgba(0, 0, 0, 0.15);\n",
              "      filter: drop-shadow(0px 1px 2px rgba(0, 0, 0, 0.3));\n",
              "      fill: #FFFFFF;\n",
              "    }\n",
              "  </style>\n",
              "\n",
              "    <script>\n",
              "      const buttonEl =\n",
              "        document.querySelector('#df-51b9b2a6-4777-489a-addb-bed590835415 button.colab-df-convert');\n",
              "      buttonEl.style.display =\n",
              "        google.colab.kernel.accessAllowed ? 'block' : 'none';\n",
              "\n",
              "      async function convertToInteractive(key) {\n",
              "        const element = document.querySelector('#df-51b9b2a6-4777-489a-addb-bed590835415');\n",
              "        const dataTable =\n",
              "          await google.colab.kernel.invokeFunction('convertToInteractive',\n",
              "                                                    [key], {});\n",
              "        if (!dataTable) return;\n",
              "\n",
              "        const docLinkHtml = 'Like what you see? Visit the ' +\n",
              "          '<a target=\"_blank\" href=https://colab.research.google.com/notebooks/data_table.ipynb>data table notebook</a>'\n",
              "          + ' to learn more about interactive tables.';\n",
              "        element.innerHTML = '';\n",
              "        dataTable['output_type'] = 'display_data';\n",
              "        await google.colab.output.renderOutput(dataTable, element);\n",
              "        const docLink = document.createElement('div');\n",
              "        docLink.innerHTML = docLinkHtml;\n",
              "        element.appendChild(docLink);\n",
              "      }\n",
              "    </script>\n",
              "  </div>\n",
              "\n",
              "\n",
              "<div id=\"df-348b989e-f5ab-4048-b162-ddb49438e0ee\">\n",
              "  <button class=\"colab-df-quickchart\" onclick=\"quickchart('df-348b989e-f5ab-4048-b162-ddb49438e0ee')\"\n",
              "            title=\"Suggest charts\"\n",
              "            style=\"display:none;\">\n",
              "\n",
              "<svg xmlns=\"http://www.w3.org/2000/svg\" height=\"24px\"viewBox=\"0 0 24 24\"\n",
              "     width=\"24px\">\n",
              "    <g>\n",
              "        <path d=\"M19 3H5c-1.1 0-2 .9-2 2v14c0 1.1.9 2 2 2h14c1.1 0 2-.9 2-2V5c0-1.1-.9-2-2-2zM9 17H7v-7h2v7zm4 0h-2V7h2v10zm4 0h-2v-4h2v4z\"/>\n",
              "    </g>\n",
              "</svg>\n",
              "  </button>\n",
              "\n",
              "<style>\n",
              "  .colab-df-quickchart {\n",
              "      --bg-color: #E8F0FE;\n",
              "      --fill-color: #1967D2;\n",
              "      --hover-bg-color: #E2EBFA;\n",
              "      --hover-fill-color: #174EA6;\n",
              "      --disabled-fill-color: #AAA;\n",
              "      --disabled-bg-color: #DDD;\n",
              "  }\n",
              "\n",
              "  [theme=dark] .colab-df-quickchart {\n",
              "      --bg-color: #3B4455;\n",
              "      --fill-color: #D2E3FC;\n",
              "      --hover-bg-color: #434B5C;\n",
              "      --hover-fill-color: #FFFFFF;\n",
              "      --disabled-bg-color: #3B4455;\n",
              "      --disabled-fill-color: #666;\n",
              "  }\n",
              "\n",
              "  .colab-df-quickchart {\n",
              "    background-color: var(--bg-color);\n",
              "    border: none;\n",
              "    border-radius: 50%;\n",
              "    cursor: pointer;\n",
              "    display: none;\n",
              "    fill: var(--fill-color);\n",
              "    height: 32px;\n",
              "    padding: 0;\n",
              "    width: 32px;\n",
              "  }\n",
              "\n",
              "  .colab-df-quickchart:hover {\n",
              "    background-color: var(--hover-bg-color);\n",
              "    box-shadow: 0 1px 2px rgba(60, 64, 67, 0.3), 0 1px 3px 1px rgba(60, 64, 67, 0.15);\n",
              "    fill: var(--button-hover-fill-color);\n",
              "  }\n",
              "\n",
              "  .colab-df-quickchart-complete:disabled,\n",
              "  .colab-df-quickchart-complete:disabled:hover {\n",
              "    background-color: var(--disabled-bg-color);\n",
              "    fill: var(--disabled-fill-color);\n",
              "    box-shadow: none;\n",
              "  }\n",
              "\n",
              "  .colab-df-spinner {\n",
              "    border: 2px solid var(--fill-color);\n",
              "    border-color: transparent;\n",
              "    border-bottom-color: var(--fill-color);\n",
              "    animation:\n",
              "      spin 1s steps(1) infinite;\n",
              "  }\n",
              "\n",
              "  @keyframes spin {\n",
              "    0% {\n",
              "      border-color: transparent;\n",
              "      border-bottom-color: var(--fill-color);\n",
              "      border-left-color: var(--fill-color);\n",
              "    }\n",
              "    20% {\n",
              "      border-color: transparent;\n",
              "      border-left-color: var(--fill-color);\n",
              "      border-top-color: var(--fill-color);\n",
              "    }\n",
              "    30% {\n",
              "      border-color: transparent;\n",
              "      border-left-color: var(--fill-color);\n",
              "      border-top-color: var(--fill-color);\n",
              "      border-right-color: var(--fill-color);\n",
              "    }\n",
              "    40% {\n",
              "      border-color: transparent;\n",
              "      border-right-color: var(--fill-color);\n",
              "      border-top-color: var(--fill-color);\n",
              "    }\n",
              "    60% {\n",
              "      border-color: transparent;\n",
              "      border-right-color: var(--fill-color);\n",
              "    }\n",
              "    80% {\n",
              "      border-color: transparent;\n",
              "      border-right-color: var(--fill-color);\n",
              "      border-bottom-color: var(--fill-color);\n",
              "    }\n",
              "    90% {\n",
              "      border-color: transparent;\n",
              "      border-bottom-color: var(--fill-color);\n",
              "    }\n",
              "  }\n",
              "</style>\n",
              "\n",
              "  <script>\n",
              "    async function quickchart(key) {\n",
              "      const quickchartButtonEl =\n",
              "        document.querySelector('#' + key + ' button');\n",
              "      quickchartButtonEl.disabled = true;  // To prevent multiple clicks.\n",
              "      quickchartButtonEl.classList.add('colab-df-spinner');\n",
              "      try {\n",
              "        const charts = await google.colab.kernel.invokeFunction(\n",
              "            'suggestCharts', [key], {});\n",
              "      } catch (error) {\n",
              "        console.error('Error during call to suggestCharts:', error);\n",
              "      }\n",
              "      quickchartButtonEl.classList.remove('colab-df-spinner');\n",
              "      quickchartButtonEl.classList.add('colab-df-quickchart-complete');\n",
              "    }\n",
              "    (() => {\n",
              "      let quickchartButtonEl =\n",
              "        document.querySelector('#df-348b989e-f5ab-4048-b162-ddb49438e0ee button');\n",
              "      quickchartButtonEl.style.display =\n",
              "        google.colab.kernel.accessAllowed ? 'block' : 'none';\n",
              "    })();\n",
              "  </script>\n",
              "</div>\n",
              "\n",
              "    </div>\n",
              "  </div>\n"
            ],
            "application/vnd.google.colaboratory.intrinsic+json": {
              "type": "dataframe",
              "summary": "{\n  \"name\": \"gym_data\",\n  \"rows\": 8,\n  \"fields\": [\n    {\n      \"column\": \"Age\",\n      \"properties\": {\n        \"dtype\": \"number\",\n        \"std\": 331.9992638143134,\n        \"min\": 12.180927866987108,\n        \"max\": 973.0,\n        \"num_unique_values\": 8,\n        \"samples\": [\n          38.68345323741007,\n          40.0,\n          973.0\n        ],\n        \"semantic_type\": \"\",\n        \"description\": \"\"\n      }\n    },\n    {\n      \"column\": \"Weight (kg)\",\n      \"properties\": {\n        \"dtype\": \"number\",\n        \"std\": 321.4294680767086,\n        \"min\": 21.20750049840718,\n        \"max\": 973.0,\n        \"num_unique_values\": 8,\n        \"samples\": [\n          73.85467625899281,\n          70.0,\n          973.0\n        ],\n        \"semantic_type\": \"\",\n        \"description\": \"\"\n      }\n    },\n    {\n      \"column\": \"Height (m)\",\n      \"properties\": {\n        \"dtype\": \"number\",\n        \"std\": 343.47859876018913,\n        \"min\": 0.12771989460721703,\n        \"max\": 973.0,\n        \"num_unique_values\": 8,\n        \"samples\": [\n          1.7225796505652622,\n          1.71,\n          973.0\n        ],\n        \"semantic_type\": \"\",\n        \"description\": \"\"\n      }\n    },\n    {\n      \"column\": \"Max_BPM\",\n      \"properties\": {\n        \"dtype\": \"number\",\n        \"std\": 295.1061974835412,\n        \"min\": 11.525685962379304,\n        \"max\": 973.0,\n        \"num_unique_values\": 8,\n        \"samples\": [\n          179.88386433710176,\n          180.0,\n          973.0\n        ],\n        \"semantic_type\": \"\",\n        \"description\": \"\"\n      }\n    },\n    {\n      \"column\": \"Avg_BPM\",\n      \"properties\": {\n        \"dtype\": \"number\",\n        \"std\": 303.46721076685174,\n        \"min\": 14.345101439108843,\n        \"max\": 973.0,\n        \"num_unique_values\": 8,\n        \"samples\": [\n          143.76670092497432,\n          143.0,\n          973.0\n        ],\n        \"semantic_type\": \"\",\n        \"description\": \"\"\n      }\n    },\n    {\n      \"column\": \"Resting_BPM\",\n      \"properties\": {\n        \"dtype\": \"number\",\n        \"std\": 325.4799587540758,\n        \"min\": 7.327059908996752,\n        \"max\": 973.0,\n        \"num_unique_values\": 8,\n        \"samples\": [\n          62.223021582733814,\n          62.0,\n          973.0\n        ],\n        \"semantic_type\": \"\",\n        \"description\": \"\"\n      }\n    },\n    {\n      \"column\": \"Session_Duration (hours)\",\n      \"properties\": {\n        \"dtype\": \"number\",\n        \"std\": 343.6108861976696,\n        \"min\": 0.3430334803899634,\n        \"max\": 973.0,\n        \"num_unique_values\": 8,\n        \"samples\": [\n          1.2564234326824255,\n          1.26,\n          973.0\n        ],\n        \"semantic_type\": \"\",\n        \"description\": \"\"\n      }\n    },\n    {\n      \"column\": \"Calories_Burned\",\n      \"properties\": {\n        \"dtype\": \"number\",\n        \"std\": 476.4571555402799,\n        \"min\": 272.64151645225877,\n        \"max\": 1783.0,\n        \"num_unique_values\": 8,\n        \"samples\": [\n          905.4224049331963,\n          893.0,\n          973.0\n        ],\n        \"semantic_type\": \"\",\n        \"description\": \"\"\n      }\n    },\n    {\n      \"column\": \"Fat_Percentage\",\n      \"properties\": {\n        \"dtype\": \"number\",\n        \"std\": 336.41406276433855,\n        \"min\": 6.259418834269056,\n        \"max\": 973.0,\n        \"num_unique_values\": 8,\n        \"samples\": [\n          24.97677286742035,\n          26.2,\n          973.0\n        ],\n        \"semantic_type\": \"\",\n        \"description\": \"\"\n      }\n    },\n    {\n      \"column\": \"Water_Intake (liters)\",\n      \"properties\": {\n        \"dtype\": \"number\",\n        \"std\": 343.1841388270036,\n        \"min\": 0.6001719365613234,\n        \"max\": 973.0,\n        \"num_unique_values\": 8,\n        \"samples\": [\n          2.626618705035971,\n          2.6,\n          973.0\n        ],\n        \"semantic_type\": \"\",\n        \"description\": \"\"\n      }\n    },\n    {\n      \"column\": \"Workout_Frequency (days/week)\",\n      \"properties\": {\n        \"dtype\": \"number\",\n        \"std\": 342.93710988231015,\n        \"min\": 0.9130469699343143,\n        \"max\": 973.0,\n        \"num_unique_values\": 7,\n        \"samples\": [\n          973.0,\n          3.3216855087358685,\n          4.0\n        ],\n        \"semantic_type\": \"\",\n        \"description\": \"\"\n      }\n    },\n    {\n      \"column\": \"Experience_Level\",\n      \"properties\": {\n        \"dtype\": \"number\",\n        \"std\": 343.42489165603297,\n        \"min\": 0.7396927419551071,\n        \"max\": 973.0,\n        \"num_unique_values\": 6,\n        \"samples\": [\n          973.0,\n          1.8098663926002057,\n          3.0\n        ],\n        \"semantic_type\": \"\",\n        \"description\": \"\"\n      }\n    },\n    {\n      \"column\": \"BMI\",\n      \"properties\": {\n        \"dtype\": \"number\",\n        \"std\": 335.8375670064553,\n        \"min\": 6.660879393631086,\n        \"max\": 973.0,\n        \"num_unique_values\": 8,\n        \"samples\": [\n          24.91212744090442,\n          24.16,\n          973.0\n        ],\n        \"semantic_type\": \"\",\n        \"description\": \"\"\n      }\n    }\n  ]\n}"
            }
          },
          "metadata": {},
          "execution_count": 30
        }
      ]
    },
    {
      "cell_type": "markdown",
      "source": [
        "# **2. Data Cleaning**\n",
        "\n",
        "\n",
        "\n",
        "\n",
        "\n",
        "\n"
      ],
      "metadata": {
        "id": "OWe5yG7o6tAG"
      }
    },
    {
      "cell_type": "markdown",
      "source": [
        "# **2.1.   Handle Missing Values:**\n",
        "*   Identify missing or null values using gym_data.isnull().sum() and gym_data.isna().sum().\n",
        "*   Impute or drop missing data (e.g., mean imputation for numerical columns, mode for categorical ones)."
      ],
      "metadata": {
        "id": "R09USsohnBFJ"
      }
    },
    {
      "cell_type": "code",
      "source": [
        "print(\"Check for null values:\")\n",
        "print(gym_data.isnull().sum())\n",
        "\n",
        "# Handling null values by replacing them with mean\n",
        "gym_data['Calories_Burned'] = gym_data['Calories_Burned'].fillna(gym_data['Calories_Burned'].mean())\n",
        "\n",
        "print()\n",
        "print()\n",
        "\n",
        "print(\"Check for NaN values in the entire DataFrame:\")\n",
        "print (gym_data.isna().sum())"
      ],
      "metadata": {
        "colab": {
          "base_uri": "https://localhost:8080/"
        },
        "id": "lfqKuR1r7itk",
        "outputId": "778575b1-7d92-4c45-c0b9-8683dd9b66fd"
      },
      "execution_count": 31,
      "outputs": [
        {
          "output_type": "stream",
          "name": "stdout",
          "text": [
            "Check for null values:\n",
            "Age                              0\n",
            "Gender                           0\n",
            "Weight (kg)                      0\n",
            "Height (m)                       0\n",
            "Max_BPM                          0\n",
            "Avg_BPM                          0\n",
            "Resting_BPM                      0\n",
            "Session_Duration (hours)         0\n",
            "Calories_Burned                  0\n",
            "Workout_Type                     0\n",
            "Fat_Percentage                   0\n",
            "Water_Intake (liters)            0\n",
            "Workout_Frequency (days/week)    0\n",
            "Experience_Level                 0\n",
            "BMI                              0\n",
            "dtype: int64\n",
            "\n",
            "\n",
            "Check for NaN values in the entire DataFrame:\n",
            "Age                              0\n",
            "Gender                           0\n",
            "Weight (kg)                      0\n",
            "Height (m)                       0\n",
            "Max_BPM                          0\n",
            "Avg_BPM                          0\n",
            "Resting_BPM                      0\n",
            "Session_Duration (hours)         0\n",
            "Calories_Burned                  0\n",
            "Workout_Type                     0\n",
            "Fat_Percentage                   0\n",
            "Water_Intake (liters)            0\n",
            "Workout_Frequency (days/week)    0\n",
            "Experience_Level                 0\n",
            "BMI                              0\n",
            "dtype: int64\n"
          ]
        }
      ]
    },
    {
      "cell_type": "markdown",
      "source": [
        "# **2.2 Detect and \"Handle\" Outliers**\n",
        "\n",
        "\n",
        "*   This code is used to detect and handle outliers in the Calories_Burned column of the gym_data DataFrame, using the Interquartile Range (IQR) method.\n",
        "\n",
        "\n"
      ],
      "metadata": {
        "id": "n9RmWDLLDA6w"
      }
    },
    {
      "cell_type": "code",
      "source": [
        "# Detect outliers using IQR for Calories_Burned\n",
        "Q1 = gym_data['Calories_Burned'].quantile(0.25)\n",
        "Q3 = gym_data['Calories_Burned'].quantile(0.75)\n",
        "IQR = Q3 - Q1\n",
        "\n",
        "# Identify outliers\n",
        "outliers = gym_data[(gym_data['Calories_Burned'] < Q1 - 1.5 * IQR) | (gym_data['Calories_Burned'] > Q3 + 1.5 * IQR)]\n",
        "\n",
        "# Capping or removing outliers\n",
        "gym_data['Calories_Burned'] = gym_data['Calories_Burned'].clip(lower=Q1 - 1.5 * IQR, upper=Q3 + 1.5 * IQR)\n",
        "print(f\"Number of outliers detected: {len(outliers)}\")\n"
      ],
      "metadata": {
        "colab": {
          "base_uri": "https://localhost:8080/"
        },
        "id": "0au6OFRNDEsX",
        "outputId": "b073eb59-2ef2-4a70-e11b-90acdd4319f4"
      },
      "execution_count": 48,
      "outputs": [
        {
          "output_type": "stream",
          "name": "stdout",
          "text": [
            "Number of outliers detected: 0\n"
          ]
        }
      ]
    },
    {
      "cell_type": "markdown",
      "source": [
        "# **2.3. Standardize or Format Categorical Variables**\n",
        "\n",
        "*   Ensuring categorical variables like Workout_Type and Gender are clean and consistent:\n"
      ],
      "metadata": {
        "id": "t7riv0i-ZG8K"
      }
    },
    {
      "cell_type": "code",
      "source": [
        "# Correct typos or inconsistencies\n",
        "gym_data['Workout_Type'] = gym_data['Workout_Type'].str.strip().str.capitalize()\n",
        "gym_data['Gender'] = gym_data['Gender'].str.strip().str.capitalize()\n",
        "\n",
        "# Check unique values after cleaning\n",
        "print(gym_data['Workout_Type'].unique())\n",
        "print(gym_data['Gender'].unique())"
      ],
      "metadata": {
        "colab": {
          "base_uri": "https://localhost:8080/"
        },
        "id": "2yQZBTOxZWr1",
        "outputId": "0efede55-18c3-4620-aee6-cb6be424a9ac"
      },
      "execution_count": 33,
      "outputs": [
        {
          "output_type": "stream",
          "name": "stdout",
          "text": [
            "['Yoga' 'Hiit' 'Cardio' 'Strength']\n",
            "['Male' 'Female']\n"
          ]
        }
      ]
    },
    {
      "cell_type": "markdown",
      "source": [
        "# **2.4. Convert Units or Rename Columns**\n",
        "\n",
        "* Converting units to minutes and renaming column for better consistency:"
      ],
      "metadata": {
        "id": "OrOPV13XzGHK"
      }
    },
    {
      "cell_type": "code",
      "source": [
        "# Convert session duration from hours to minutes\n",
        "gym_data['Session_Duration (minutes)'] = gym_data['Session_Duration (hours)'] * 60\n",
        "\n",
        "# Drop the old column for cleanliness\n",
        "gym_data.drop('Session_Duration (hours)', axis=1, inplace=True)\n"
      ],
      "metadata": {
        "id": "9dTSx2J2zQ1-"
      },
      "execution_count": 34,
      "outputs": []
    },
    {
      "cell_type": "markdown",
      "source": [
        "# **2.5. Feature Engineering**\n",
        "\n",
        "* Adding new features, such as BMI and Experience_Level categories:"
      ],
      "metadata": {
        "id": "oN70mDnK9dKB"
      }
    },
    {
      "cell_type": "code",
      "source": [
        "# Define BMI category classification\n",
        "def classify_bmi(bmi):\n",
        "    if bmi < 18.5:\n",
        "        return 'Underweight'\n",
        "    elif 18.5 <= bmi < 24.9:\n",
        "        return 'Normal'\n",
        "    elif 25 <= bmi < 29.9:\n",
        "        return 'Overweight'\n",
        "    else:\n",
        "        return 'Obese'\n",
        "\n",
        "# Apply classification to BMI column\n",
        "gym_data['BMI_Category'] = gym_data['BMI'].apply(classify_bmi)\n",
        "\n",
        "# Check the new column\n",
        "print(gym_data[['BMI', 'BMI_Category']].head())\n"
      ],
      "metadata": {
        "colab": {
          "base_uri": "https://localhost:8080/"
        },
        "id": "8tfz1ype-N8d",
        "outputId": "5a8840ff-7991-4d26-80ab-a2cf3f9001a9"
      },
      "execution_count": 35,
      "outputs": [
        {
          "output_type": "stream",
          "name": "stdout",
          "text": [
            "     BMI BMI_Category\n",
            "0  30.20        Obese\n",
            "1  32.00        Obese\n",
            "2  24.71       Normal\n",
            "3  18.41  Underweight\n",
            "4  14.39  Underweight\n"
          ]
        }
      ]
    },
    {
      "cell_type": "markdown",
      "source": [
        "**Label Encoding for Experience_Level**\n",
        "\n",
        "* The values [3, 2, 1] indicate the column is already numeric. Therefore, no need to remap the column unless these numbers don’t align with the semantic meanings (3 = Expert, 2 = Intermediate, 1 = Beginner)."
      ],
      "metadata": {
        "id": "mC_cvzO467M2"
      }
    },
    {
      "cell_type": "code",
      "source": [
        "print(gym_data['Workout_Type'].unique())\n",
        "print(gym_data['Experience_Level'].unique())"
      ],
      "metadata": {
        "colab": {
          "base_uri": "https://localhost:8080/"
        },
        "id": "6ONVy3dp5o3G",
        "outputId": "7a952636-8119-4fed-e687-ebb9938e4f51"
      },
      "execution_count": 36,
      "outputs": [
        {
          "output_type": "stream",
          "name": "stdout",
          "text": [
            "['Yoga' 'Hiit' 'Cardio' 'Strength']\n",
            "[3 2 1]\n"
          ]
        }
      ]
    },
    {
      "cell_type": "code",
      "source": [
        "# Map the numerical Experience_Level back to categorical labels\n",
        "experience_map = {1: 'Beginner', 2: 'Intermediate', 3: 'Expert'}\n",
        "gym_data['Experience_Level'] = gym_data['Experience_Level'].map(experience_map)\n",
        "\n",
        "# Verify the mapping worked\n",
        "print(gym_data['Experience_Level'].unique())  # ['Expert', 'Intermediate', 'Beginner']\n"
      ],
      "metadata": {
        "colab": {
          "base_uri": "https://localhost:8080/"
        },
        "id": "ENmKEKXY7CZw",
        "outputId": "2441d44c-e7cc-4dba-936f-d097b2290d31"
      },
      "execution_count": 37,
      "outputs": [
        {
          "output_type": "stream",
          "name": "stdout",
          "text": [
            "['Expert' 'Intermediate' 'Beginner']\n"
          ]
        }
      ]
    },
    {
      "cell_type": "markdown",
      "source": [
        "**\"One-Hot\" Encoding for Workout_Type**\n",
        "\n",
        "* Since the column is clean, the encoding step will directly create new binary columns for each workout type (except the first one, which is dropped to avoid multicollinearity)."
      ],
      "metadata": {
        "id": "Wvp19jCm6Xap"
      }
    },
    {
      "cell_type": "code",
      "source": [
        "gym_data = pd.get_dummies(gym_data, columns=['Workout_Type'], drop_first=True)"
      ],
      "metadata": {
        "id": "IiEqb5pC5U_z"
      },
      "execution_count": 38,
      "outputs": []
    },
    {
      "cell_type": "markdown",
      "source": [
        "# **2.6. Check for Duplicates**\n",
        "\n",
        "Duplicates can skew analysis if the same information is counted multiple times."
      ],
      "metadata": {
        "id": "7zdFFlnJ_ncY"
      }
    },
    {
      "cell_type": "code",
      "source": [
        "# Check for duplicate rows\n",
        "duplicates = gym_data.duplicated()\n",
        "\n",
        "# Count and optionally remove duplicates\n",
        "print(f\"Number of duplicate rows: {duplicates.sum()}\")\n",
        "gym_data.drop_duplicates(inplace=True)"
      ],
      "metadata": {
        "colab": {
          "base_uri": "https://localhost:8080/"
        },
        "id": "M5Eo1ri3_uO4",
        "outputId": "2cd351b4-1d05-4243-a4a3-cd8bfbfa229a"
      },
      "execution_count": 39,
      "outputs": [
        {
          "output_type": "stream",
          "name": "stdout",
          "text": [
            "Number of duplicate rows: 0\n"
          ]
        }
      ]
    },
    {
      "cell_type": "markdown",
      "source": [
        "# **2.7. Verify Data Types**\n",
        "\n",
        "* This section focuses on ensuring that the data in the gym_data DataFrame has the correct data types for analysis.\n",
        "(e.g., numerical, categorical)."
      ],
      "metadata": {
        "id": "HZYTo3_S_4OK"
      }
    },
    {
      "cell_type": "code",
      "source": [
        "print(gym_data.dtypes)\n",
        "\n",
        "# Convert data types if necessary\n",
        "# gym_data['Age'] = gym_data['Age'].astype(int)\n",
        "# gym_data['Session_Duration (minutes)'] = gym_data['Session_Duration (minutes)'].astype(float)"
      ],
      "metadata": {
        "colab": {
          "base_uri": "https://localhost:8080/"
        },
        "id": "aNIp8t43_8d6",
        "outputId": "3e6ff757-cee8-4f75-f46f-135fdd393b32"
      },
      "execution_count": 40,
      "outputs": [
        {
          "output_type": "stream",
          "name": "stdout",
          "text": [
            "Age                                int64\n",
            "Gender                            object\n",
            "Weight (kg)                      float64\n",
            "Height (m)                       float64\n",
            "Max_BPM                            int64\n",
            "Avg_BPM                            int64\n",
            "Resting_BPM                        int64\n",
            "Calories_Burned                  float64\n",
            "Fat_Percentage                   float64\n",
            "Water_Intake (liters)            float64\n",
            "Workout_Frequency (days/week)      int64\n",
            "Experience_Level                  object\n",
            "BMI                              float64\n",
            "Session_Duration (minutes)       float64\n",
            "BMI_Category                      object\n",
            "Workout_Type_Hiit                   bool\n",
            "Workout_Type_Strength               bool\n",
            "Workout_Type_Yoga                   bool\n",
            "dtype: object\n"
          ]
        }
      ]
    },
    {
      "cell_type": "markdown",
      "source": [
        "# **2.8. Check Data Consistency**\n",
        "\n",
        "* Ensure logical consistency between columns (e.g., Calories_Burned should be proportional to Session_Duration)."
      ],
      "metadata": {
        "id": "VC_IBUB-BDH6"
      }
    },
    {
      "cell_type": "code",
      "source": [
        "# Example check: Ensure no negative values\n",
        "assert (gym_data['Calories_Burned'] >= 0).all(), \"Negative values found in Calories_Burned\""
      ],
      "metadata": {
        "id": "4v53irlbBFlx"
      },
      "execution_count": 41,
      "outputs": []
    },
    {
      "cell_type": "markdown",
      "source": [
        "# **2.9. Save the Clean Data**\n",
        "\n",
        "* After completing the data cleaning steps, it's crucial to save the cleaned dataset to a new file.\n",
        "* This ensures that the cleaned data is preserved and readily available for further analysis and modeling.\n",
        "* Saving the data prevents you from having to repeat the cleaning process each time you work with the dataset.\n",
        "\n",
        "**Benefits of Saving Cleaned Data:**\n",
        "\n",
        "* Preservation: Ensures that the cleaned data is stored separately from the original data, preventing accidental modifications to the cleaned version.\n",
        "* Efficiency: Eliminates the need to repeat the data cleaning process each time you need to work with the data.\n",
        "* Reproducibility: Allows others to easily access and use the cleaned data, promoting reproducibility of your analysis.\n",
        "* Data Management: Facilitates better organization and management of your data files."
      ],
      "metadata": {
        "id": "CVqhofOcKHbo"
      }
    },
    {
      "cell_type": "code",
      "source": [
        "gym_data.to_csv('gym_data_cleaned.csv', index=False)"
      ],
      "metadata": {
        "id": "m8UadxBxKOz5"
      },
      "execution_count": 49,
      "outputs": []
    },
    {
      "cell_type": "markdown",
      "source": [
        "# **3. Perform Descriptive Statistics**\n",
        "\n",
        "# 3.1. Perform Descriptive Statistics\n",
        "* Descriptive statistics provide a summary of the dataset, which helps understand the basic properties of the data such as central tendency, spread, and relationships between variables.\n",
        "\n",
        "**Steps:**\n",
        "* Mean, Median, Mode: These are measures of central tendency.\n",
        "* Standard Deviation: Measures the spread or variability in the data.\n",
        "* Correlation Matrix: Helps you understand relationships between numerical features."
      ],
      "metadata": {
        "id": "A48LWuM79TYS"
      }
    },
    {
      "cell_type": "code",
      "source": [
        "# Perform Descriptive Statistics\n",
        "def descriptive_stats_report(data):\n",
        "\n",
        "    numeric_columns = data.select_dtypes(include=['float64', 'int64'])\n",
        "\n",
        "    # Transpose the describe() output for better readability\n",
        "    descriptive_stats = numeric_columns.describe().T\n",
        "\n",
        "    # Add mode to the descriptive statistics table\n",
        "    descriptive_stats['mode'] = numeric_columns.mode().iloc[0]\n",
        "\n",
        "    # Rename columns for clarity\n",
        "    descriptive_stats = descriptive_stats.rename(columns={\n",
        "        'count': 'Count',\n",
        "        'mean': 'Mean',\n",
        "        'std': 'Standard Deviation',\n",
        "        'min': 'Minimum',\n",
        "        '25%': '25th Percentile',\n",
        "        '50%': 'Median',\n",
        "        '75%': '75th Percentile',\n",
        "        'max': 'Maximum',\n",
        "        'mode': 'Mode'\n",
        "    })\n",
        "\n",
        "    # Print the formatted descriptive statistics\n",
        "    print(\"Descriptive Statistics:\")\n",
        "    print(descriptive_stats.to_string())  # to_string() for better formatting\n",
        "\n",
        "    print()\n",
        "\n",
        "    # Print the correlation matrix\n",
        "    correlation_matrix = numeric_columns.corr()\n",
        "    print(\"\\nCorrelation Matrix:\")\n",
        "    print(correlation_matrix.to_string())  # to_string() for better formatting\n",
        "\n",
        "# Call the function with your data\n",
        "descriptive_stats_report(gym_data)"
      ],
      "metadata": {
        "colab": {
          "base_uri": "https://localhost:8080/"
        },
        "id": "4lSq1qa7-VvR",
        "outputId": "85d18bc9-b8b1-4067-f68d-595f9eceaae4"
      },
      "execution_count": 52,
      "outputs": [
        {
          "output_type": "stream",
          "name": "stdout",
          "text": [
            "Descriptive Statistics:\n",
            "                               Count        Mean  Standard Deviation  Minimum  25th Percentile  Median  75th Percentile  Maximum     Mode\n",
            "Age                            973.0   38.683453           12.180928    18.00            28.00   40.00            49.00    59.00    43.00\n",
            "Weight (kg)                    973.0   73.854676           21.207500    40.00            58.10   70.00            86.00   129.90    57.70\n",
            "Height (m)                     973.0    1.722580            0.127720     1.50             1.62    1.71             1.80     2.00     1.62\n",
            "Max_BPM                        973.0  179.883864           11.525686   160.00           170.00  180.00           190.00   199.00   198.00\n",
            "Avg_BPM                        973.0  143.766701           14.345101   120.00           131.00  143.00           156.00   169.00   132.00\n",
            "Resting_BPM                    973.0   62.223022            7.327060    50.00            56.00   62.00            68.00    74.00    50.00\n",
            "Calories_Burned                973.0  904.636177          270.430869   303.00           720.00  893.00          1076.00  1610.00  1610.00\n",
            "Fat_Percentage                 973.0   24.976773            6.259419    10.00            21.30   26.20            29.30    35.00    28.10\n",
            "Water_Intake (liters)          973.0    2.626619            0.600172     1.50             2.20    2.60             3.10     3.70     3.50\n",
            "Workout_Frequency (days/week)  973.0    3.321686            0.913047     2.00             3.00    3.00             4.00     5.00     3.00\n",
            "BMI                            973.0   24.912127            6.660879    12.32            20.11   24.16            28.56    49.84    23.53\n",
            "Session_Duration (minutes)     973.0   75.385406           20.582009    30.00            62.40   75.60            87.60   120.00    61.80\n",
            "\n",
            "\n",
            "Correlation Matrix:\n",
            "                                    Age  Weight (kg)  Height (m)   Max_BPM   Avg_BPM  Resting_BPM  Calories_Burned  Fat_Percentage  Water_Intake (liters)  Workout_Frequency (days/week)       BMI  Session_Duration (minutes)\n",
            "Age                            1.000000    -0.036340   -0.027837 -0.017073  0.035969     0.004354        -0.153522        0.002370               0.041528                       0.008055 -0.013691                   -0.019912\n",
            "Weight (kg)                   -0.036340     1.000000    0.365321  0.057061  0.009717    -0.032138         0.094611       -0.225512               0.394276                      -0.011769  0.853158                   -0.013666\n",
            "Height (m)                    -0.027837     0.365321    1.000000 -0.017660 -0.014776    -0.005090         0.085247       -0.235521               0.393533                      -0.011270 -0.159469                   -0.010206\n",
            "Max_BPM                       -0.017073     0.057061   -0.017660  1.000000 -0.039751     0.036647         0.000966       -0.009056               0.031621                      -0.029099  0.067105                    0.010051\n",
            "Avg_BPM                        0.035969     0.009717   -0.014776 -0.039751  1.000000     0.059636         0.338403       -0.007302              -0.002911                      -0.010681  0.021605                    0.016014\n",
            "Resting_BPM                    0.004354    -0.032138   -0.005090  0.036647  0.059636     1.000000         0.014870       -0.016834               0.007726                      -0.007967 -0.032543                   -0.016649\n",
            "Calories_Burned               -0.153522     0.094611    0.085247  0.000966  0.338403     0.014870         1.000000       -0.596062               0.355689                       0.576769  0.059416                    0.909872\n",
            "Fat_Percentage                 0.002370    -0.225512   -0.235521 -0.009056 -0.007302    -0.016834        -0.596062        1.000000              -0.588683                      -0.537060 -0.119258                   -0.581520\n",
            "Water_Intake (liters)          0.041528     0.394276    0.393533  0.031621 -0.002911     0.007726         0.355689       -0.588683               1.000000                       0.238563  0.213697                    0.283411\n",
            "Workout_Frequency (days/week)  0.008055    -0.011769   -0.011270 -0.029099 -0.010681    -0.007967         0.576769       -0.537060               0.238563                       1.000000  0.001645                    0.644140\n",
            "BMI                           -0.013691     0.853158   -0.159469  0.067105  0.021605    -0.032543         0.059416       -0.119258               0.213697                       0.001645  1.000000                   -0.006493\n",
            "Session_Duration (minutes)    -0.019912    -0.013666   -0.010206  0.010051  0.016014    -0.016649         0.909872       -0.581520               0.283411                       0.644140 -0.006493                    1.000000\n"
          ]
        }
      ]
    },
    {
      "cell_type": "markdown",
      "source": [
        "# Visualizing the correlation matrix using a heatmap\n",
        "\n",
        "**Identify Strong Relationships:**\n",
        "\n",
        "* Quickly spot variables that are strongly correlated and may have predictive or dependent relationships.\n",
        "For example, you might see that Calories_Burned has a strong positive correlation with Session_Duration.\n",
        "\n",
        "**Detect Multicollinearity:**\n",
        "\n",
        "* Variables that are highly correlated with each other (e.g., Weight and BMI) can cause issues in predictive models like regression.\n",
        "If multicollinearity exists, you might decide to remove or combine those variables.\n",
        "\n",
        "**Understand Patterns:**\n",
        "\n",
        "* Helps to uncover hidden relationships or redundancies in the data."
      ],
      "metadata": {
        "id": "9HqEzuw4B2Fk"
      }
    },
    {
      "cell_type": "code",
      "source": [
        "# Select physiological metrics for the heatmap\n",
        "physio_metrics = gym_data[['BMI', 'Avg_BPM', 'Calories_Burned', 'Resting_BPM', 'Max_BPM', 'Fat_Percentage']]\n",
        "\n",
        "# Create a correlation heatmap with enhanced column and row visibility\n",
        "plt.figure(figsize=(10, 8))\n",
        "sns.heatmap(physio_metrics.corr(), annot=False, cmap='bwr', center=0, vmin=-1, vmax=1)\n",
        "\n",
        "# Enhance column and row labels\n",
        "plt.xticks(rotation=90, ha='right', fontsize=12)\n",
        "plt.yticks(rotation=0, fontsize=12)\n",
        "plt.title(\"Correlation Heatmap of Physiological Metrics\")\n",
        "plt.tight_layout()"
      ],
      "metadata": {
        "colab": {
          "base_uri": "https://localhost:8080/",
          "height": 807
        },
        "id": "zOehmDLUAsw2",
        "outputId": "c3dd455c-6f47-4c70-ff78-fce0b7572aae"
      },
      "execution_count": 44,
      "outputs": [
        {
          "output_type": "display_data",
          "data": {
            "text/plain": [
              "<Figure size 1000x800 with 2 Axes>"
            ],
            "image/png": "[encoded data removed]"
          },
          "metadata": {}
        }
      ]
    },
    {
      "cell_type": "markdown",
      "source": [
        "# **3.2. Segment Data by Gender**\n",
        "\n",
        "**Interpretation of the Graph**\n",
        "\n",
        "Gender Proportions: The pie chart visually displays the relative proportions of different genders in the dataset. By comparing the slice sizes, you can quickly assess which gender is more or less represented in the gym member data.\n",
        "\n",
        "Dominant Gender: The largest slice indicates the dominant gender among gym members. For instance, if the \"Male\" slice is significantly larger than the \"Female\" slice, it suggests that there are more male gym members in the dataset.\n",
        "\n",
        "Overall Distribution: The pie chart provides an overall picture of the gender distribution within the gym member population. This information can be useful for understanding the demographics of the gym and tailoring services or programs accordingly.\n",
        "\n",
        "**Example Interpretation**\n",
        "\n",
        "Let's say the pie chart shows the following:\n",
        "\n",
        "Male: 60%\n",
        "Female: 40%\n",
        "Based on this, we can interpret that:\n",
        "\n",
        "60% of the gym members in the dataset are male.\n",
        "40% of the gym members in the dataset are female.\n",
        "There are more male gym members than female gym members in the dataset.\n",
        "Further Considerations\n",
        "\n",
        "Representativeness: It's important to consider whether the dataset used to create the pie chart is representative of the broader gym member population. If the dataset is biased or incomplete, the pie chart may not accurately reflect the actual gender distribution.\n",
        "Context: The interpretation of the pie chart should be considered within the specific context of the gym and its target audience. For instance, a gym located in a predominantly male area might naturally have a higher proportion of male members."
      ],
      "metadata": {
        "id": "biHPq74V-x2J"
      }
    },
    {
      "cell_type": "code",
      "source": [
        "# Segment data by Gender and get the mean for each group\n",
        "# Include 'Gender' column in the selection\n",
        "gender_segment = gym_data[['Gender'] + gym_data.select_dtypes(include=np.number).columns.tolist()].groupby('Gender').mean()\n",
        "\n",
        "# Show the results\n",
        "print(\"\\nSegmented Data by Gender (Numeric Columns):\")\n",
        "print(gender_segment)\n",
        "\n",
        "# Gender Distribution Pie Chart (unchanged)\n",
        "gender_count = gym_data['Gender'].value_counts()\n",
        "plt.figure(figsize=(8, 6))\n",
        "plt.pie(gender_count, labels=gender_count.index, autopct='%1.1f%%', startangle=90,\n",
        "        colors=['skyblue', 'lightcoral'], explode=[0.05, 0], shadow=True)\n",
        "plt.title('Gender Distribution', fontsize=14)\n",
        "plt.axis('equal')\n",
        "plt.show()"
      ],
      "metadata": {
        "colab": {
          "base_uri": "https://localhost:8080/",
          "height": 800
        },
        "id": "u5w7mZKR-z4d",
        "outputId": "752802f4-8e78-4c7e-d097-32e92ed93b1a"
      },
      "execution_count": 45,
      "outputs": [
        {
          "output_type": "stream",
          "name": "stdout",
          "text": [
            "\n",
            "Segmented Data by Gender (Numeric Columns):\n",
            "              Age  Weight (kg)  Height (m)     Max_BPM     Avg_BPM  \\\n",
            "Gender                                                               \n",
            "Female  38.335498    60.939827    1.644242  179.759740  143.621212   \n",
            "Male    38.998043    85.531115    1.793405  179.996086  143.898239   \n",
            "\n",
            "        Resting_BPM  Calories_Burned  Fat_Percentage  Water_Intake (liters)  \\\n",
            "Gender                                                                        \n",
            "Female    62.114719       862.216450       27.656710               2.205411   \n",
            "Male      62.320939       942.988258       22.553816               3.007436   \n",
            "\n",
            "        Workout_Frequency (days/week)        BMI  Session_Duration (minutes)  \n",
            "Gender                                                                        \n",
            "Female                       3.339827  22.727835                   75.649351  \n",
            "Male                         3.305284  26.886967                   75.146771  \n"
          ]
        },
        {
          "output_type": "display_data",
          "data": {
            "text/plain": [
              "<Figure size 800x600 with 1 Axes>"
            ],
            "image/png": "[encoded data removed]"
          },
          "metadata": {}
        }
      ]
    },
    {
      "cell_type": "markdown",
      "source": [
        "# **3.3. Box plot for Calories_Burned by Experience_Level**\n",
        "\n",
        "**Overall Insights**\n",
        "\n",
        "* The box plot provides evidence that experience level is likely associated with calorie burn during workouts. More experienced gym-goers (\"Expert\") tend to burn more calories on average compared to less experienced individuals (\"Beginner\" and \"Intermediate\"). However, there is variability within each group, and some outliers deviate from the general trend.\n",
        "\n",
        "**Further Considerations**\n",
        "\n",
        "* It's important to remember that this is an observational study, so we cannot establish causality between experience level and calorie burn. Other factors not captured in the data could be contributing to the observed differences.\n",
        "Further analysis, such as statistical tests, would be needed to confirm the significance of these relationships.\n",
        "The presence of outliers suggests that individual factors may also play a role in calorie expenditure during workouts."
      ],
      "metadata": {
        "id": "yh6QtWbz_A-T"
      }
    },
    {
      "cell_type": "code",
      "source": [
        "# Enhanced Box plot for Calories_Burned by Experience_Level, ordered from Beginner to Expert\n",
        "plt.figure(figsize=(10, 6))\n",
        "sns.boxplot(data=gym_data, x='Experience_Level', y='Calories_Burned', palette=\"pastel\",\n",
        "            showmeans=True, meanprops={\"marker\":\"o\", \"markerfacecolor\":\"white\", \"markeredgecolor\":\"black\", \"markersize\":\"10\"},\n",
        "            order=['Beginner', 'Intermediate', 'Expert'])  # Specify order\n",
        "plt.title('Calories Burned by Experience Level', fontsize=16)\n",
        "plt.xlabel('Experience Level', fontsize=12)\n",
        "plt.ylabel('Calories Burned', fontsize=12)\n",
        "plt.xticks(fontsize=10)\n",
        "plt.yticks(fontsize=10)\n",
        "plt.grid(axis='y', linestyle='--', alpha=0.7)\n",
        "plt.tight_layout()\n",
        "plt.show()"
      ],
      "metadata": {
        "colab": {
          "base_uri": "https://localhost:8080/",
          "height": 714
        },
        "id": "gvcuH10l_B9x",
        "outputId": "5269f588-0ec1-4ae5-9b89-018ebcc4b1b0"
      },
      "execution_count": 46,
      "outputs": [
        {
          "output_type": "stream",
          "name": "stderr",
          "text": [
            "<ipython-input-46-cfd5a09039c8>:3: FutureWarning: \n",
            "\n",
            "Passing `palette` without assigning `hue` is deprecated and will be removed in v0.14.0. Assign the `x` variable to `hue` and set `legend=False` for the same effect.\n",
            "\n",
            "  sns.boxplot(data=gym_data, x='Experience_Level', y='Calories_Burned', palette=\"pastel\",\n"
          ]
        },
        {
          "output_type": "display_data",
          "data": {
            "text/plain": [
              "<Figure size 1000x600 with 1 Axes>"
            ],
            "image/png": "[encoded data removed]"
          },
          "metadata": {}
        }
      ]
    },
    {
      "cell_type": "markdown",
      "source": [],
      "metadata": {
        "id": "Qa01kPTk_u9c"
      }
    },
    {
      "cell_type": "code",
      "source": [],
      "metadata": {
        "id": "VhARiLhTAiGA"
      },
      "execution_count": 46,
      "outputs": []
    }
  ]
}